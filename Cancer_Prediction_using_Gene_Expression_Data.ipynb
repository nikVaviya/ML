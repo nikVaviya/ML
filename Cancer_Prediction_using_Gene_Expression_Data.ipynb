{
  "cells": [
    {
      "cell_type": "markdown",
      "metadata": {
        "id": "view-in-github",
        "colab_type": "text"
      },
      "source": [
        "<a href=\"https://colab.research.google.com/github/nikVaviya/ML_code/blob/main/Cancer_Prediction_using_Gene_Expression_Data.ipynb\" target=\"_parent\"><img src=\"https://colab.research.google.com/assets/colab-badge.svg\" alt=\"Open In Colab\"/></a>"
      ]
    },
    {
      "cell_type": "markdown",
      "id": "b05c990e",
      "metadata": {
        "id": "b05c990e"
      },
      "source": [
        "# Machine Learning for Cancer Prediction\n",
        "The data used for this tutorial is an RNA-seq gene expression data for different cancer types. The rows represent cancer samples and the columns represent gene count values. The last column contains the cancer categories.\n",
        "\n",
        "The original data can found here: https://archive.ics.uci.edu/ml/datasets/gene+expression+cancer+RNA-Seq#"
      ]
    },
    {
      "cell_type": "markdown",
      "id": "5d7202fe",
      "metadata": {
        "id": "5d7202fe"
      },
      "source": [
        "## Required Libraries\n",
        " - numpy\n",
        " - matplotlib\n",
        " - seaborn\n",
        " - pandas\n",
        " - scikit"
      ]
    },
    {
      "cell_type": "markdown",
      "id": "91f3dde3",
      "metadata": {
        "id": "91f3dde3"
      },
      "source": [
        "## Import Python libraries"
      ]
    },
    {
      "cell_type": "code",
      "execution_count": 3,
      "id": "a0515dec",
      "metadata": {
        "id": "a0515dec"
      },
      "outputs": [],
      "source": [
        "#data handling\n",
        "import pandas as pd\n",
        "import numpy as np\n",
        "\n",
        "#data visualization\n",
        "import matplotlib.pyplot as plt\n",
        "import seaborn as sns\n",
        "\n",
        "#preprocessing\n",
        "from sklearn.model_selection import train_test_split\n",
        "from sklearn.preprocessing import LabelEncoder\n",
        "from sklearn.preprocessing import label_binarize\n",
        "from sklearn.preprocessing import MinMaxScaler\n",
        "\n",
        "#feature selection\n",
        "from sklearn.feature_selection import mutual_info_classif\n",
        "\n",
        "#classification\n",
        "from sklearn.multiclass import OneVsRestClassifier\n",
        "from sklearn.ensemble import RandomForestClassifier\n",
        "\n",
        "# performance metrics\n",
        "from sklearn.metrics import balanced_accuracy_score,f1_score,precision_score, recall_score\n",
        "from sklearn.metrics import classification_report\n",
        "from sklearn.metrics import confusion_matrix\n",
        "from sklearn.metrics import confusion_matrix\n",
        "from sklearn.metrics import roc_curve,auc\n",
        "from sklearn.metrics import roc_auc_score"
      ]
    },
    {
      "cell_type": "markdown",
      "id": "b45976a3",
      "metadata": {
        "id": "b45976a3"
      },
      "source": [
        "## Read data"
      ]
    },
    {
      "cell_type": "code",
      "execution_count": 5,
      "id": "25a5cb29",
      "metadata": {
        "id": "25a5cb29"
      },
      "outputs": [],
      "source": [
        "\n",
        "#read data directly from a github repository\n",
        "\n",
        "file_url='https://github.com/vappiah/Machine-Learning-Tutorials/raw/main/datasets/cancer_gene_expression.zip'\n",
        "\n",
        "dataframe=pd.read_csv(file_url)\n"
      ]
    },
    {
      "cell_type": "markdown",
      "id": "e214ad93",
      "metadata": {
        "id": "e214ad93"
      },
      "source": [
        "\n",
        "## Data Exploration & Cleaning\n",
        "\n",
        "\n"
      ]
    },
    {
      "cell_type": "code",
      "execution_count": 6,
      "id": "18e48d71",
      "metadata": {
        "scrolled": true,
        "colab": {
          "base_uri": "https://localhost:8080/"
        },
        "id": "18e48d71",
        "outputId": "4e768d42-cc8d-4a7d-e75a-89346c3678c0"
      },
      "outputs": [
        {
          "output_type": "stream",
          "name": "stdout",
          "text": [
            "(801, 8001)\n"
          ]
        }
      ],
      "source": [
        "#let's check the number of samples and features\n",
        "#note:the last column contain the labels. it is not considered as a feature\n",
        "\n",
        "print(dataframe.shape)"
      ]
    },
    {
      "cell_type": "code",
      "execution_count": 7,
      "id": "7e833043",
      "metadata": {
        "colab": {
          "base_uri": "https://localhost:8080/"
        },
        "id": "7e833043",
        "outputId": "daacb451-6d8e-439d-c293-a2aefaac93d6"
      },
      "outputs": [
        {
          "output_type": "stream",
          "name": "stdout",
          "text": [
            "Index(['gene_1', 'gene_2', 'gene_3'], dtype='object')\n"
          ]
        }
      ],
      "source": [
        "#let's check some of the columns (first, second and third columns)\n",
        "print(dataframe.columns[0:3])"
      ]
    },
    {
      "cell_type": "code",
      "execution_count": 8,
      "id": "2aee3bf1",
      "metadata": {
        "colab": {
          "base_uri": "https://localhost:8080/",
          "height": 35
        },
        "id": "2aee3bf1",
        "outputId": "e71e7c5c-f90e-4b78-cefe-72627fddaa79"
      },
      "outputs": [
        {
          "output_type": "execute_result",
          "data": {
            "text/plain": [
              "'Cancer_Type'"
            ],
            "application/vnd.google.colaboratory.intrinsic+json": {
              "type": "string"
            }
          },
          "metadata": {},
          "execution_count": 8
        }
      ],
      "source": [
        "#lets check the name of the last column of this dataframe\n",
        "\n",
        "dataframe.columns[-1]"
      ]
    },
    {
      "cell_type": "code",
      "execution_count": 9,
      "id": "229679e0",
      "metadata": {
        "colab": {
          "base_uri": "https://localhost:8080/"
        },
        "id": "229679e0",
        "outputId": "b2aca290-cb1e-4bed-d393-ae1cb0792e6a"
      },
      "outputs": [
        {
          "output_type": "stream",
          "name": "stdout",
          "text": [
            "columns with missing values:0\n"
          ]
        }
      ],
      "source": [
        "#check for missing values\n",
        "datanul=dataframe.isnull().sum()\n",
        "g=[i for i in datanul if i>0]\n",
        "\n",
        "print('columns with missing values:%d'%len(g))"
      ]
    },
    {
      "cell_type": "markdown",
      "id": "000af60f",
      "metadata": {
        "id": "000af60f"
      },
      "source": [
        "**GOOD JOB!!!!.**"
      ]
    },
    {
      "cell_type": "code",
      "execution_count": 10,
      "id": "d0560c5a",
      "metadata": {
        "scrolled": true,
        "colab": {
          "base_uri": "https://localhost:8080/"
        },
        "id": "d0560c5a",
        "outputId": "c70b97c4-a7d6-4ae6-c7e6-cc6d6f3d608a"
      },
      "outputs": [
        {
          "output_type": "stream",
          "name": "stdout",
          "text": [
            "Cancer_Type\n",
            "BRCA    300\n",
            "KIRC    146\n",
            "LUAD    141\n",
            "PRAD    136\n",
            "COAD     78\n",
            "Name: count, dtype: int64\n"
          ]
        }
      ],
      "source": [
        "#let's check how many different cancer types are there in the data\n",
        "#note: in this tutorial the cancer types will be referred to as classes or labels\n",
        "\n",
        "print(dataframe['Cancer_Type'].value_counts())"
      ]
    },
    {
      "cell_type": "markdown",
      "id": "046d64c6",
      "metadata": {
        "id": "046d64c6"
      },
      "source": [
        "We can see that there are 5 classes/cancer types. And you can also see the number of samples diagnosed with a cancer type\n",
        "      "
      ]
    },
    {
      "cell_type": "code",
      "execution_count": 11,
      "id": "93990c7a",
      "metadata": {
        "scrolled": false,
        "colab": {
          "base_uri": "https://localhost:8080/",
          "height": 494
        },
        "id": "93990c7a",
        "outputId": "0e03668e-f173-4389-cd38-4d381ed0d066"
      },
      "outputs": [
        {
          "output_type": "execute_result",
          "data": {
            "text/plain": [
              "<Axes: xlabel='Cancer_Type'>"
            ]
          },
          "metadata": {},
          "execution_count": 11
        },
        {
          "output_type": "display_data",
          "data": {
            "text/plain": [
              "<Figure size 640x480 with 1 Axes>"
            ],
            "image/png": "[encoded data removed]"
          },
          "metadata": {}
        }
      ],
      "source": [
        "#plot a bar chat to display the class distribution\n",
        "\n",
        "dataframe['Cancer_Type'].value_counts().plot.bar()"
      ]
    },
    {
      "cell_type": "markdown",
      "id": "7a0e165b",
      "metadata": {
        "id": "7a0e165b"
      },
      "source": [
        "\n",
        "## **Data preprocesing**\n",
        "This is done to put the data in an appropriate format before modelling\n"
      ]
    },
    {
      "cell_type": "code",
      "execution_count": 12,
      "id": "a13b9f51",
      "metadata": {
        "id": "a13b9f51"
      },
      "outputs": [],
      "source": [
        "#we will now seperate the feature values from the class. we do this because scikit-learn requires that features and class are separated before parsing them to the classifiers.\n",
        "\n",
        "X=dataframe.iloc[:,0:-1]\n",
        "y=dataframe.iloc[:,-1]"
      ]
    },
    {
      "cell_type": "code",
      "execution_count": 13,
      "id": "4e704973",
      "metadata": {
        "colab": {
          "base_uri": "https://localhost:8080/"
        },
        "id": "4e704973",
        "outputId": "3bf728c4-b17c-4d79-e3f0-1637cc5ffe38"
      },
      "outputs": [
        {
          "output_type": "execute_result",
          "data": {
            "text/plain": [
              "(801, 8000)"
            ]
          },
          "metadata": {},
          "execution_count": 13
        }
      ],
      "source": [
        "X.shape"
      ]
    },
    {
      "cell_type": "code",
      "execution_count": 14,
      "id": "27abe08d",
      "metadata": {
        "colab": {
          "base_uri": "https://localhost:8080/"
        },
        "id": "27abe08d",
        "outputId": "757746fd-1b29-4a8a-8d31-832a3cc6ba89"
      },
      "outputs": [
        {
          "output_type": "execute_result",
          "data": {
            "text/plain": [
              "(801,)"
            ]
          },
          "metadata": {},
          "execution_count": 14
        }
      ],
      "source": [
        "y.shape"
      ]
    },
    {
      "cell_type": "markdown",
      "id": "264a01cb",
      "metadata": {
        "id": "264a01cb"
      },
      "source": [
        "\\\n",
        "**Encode labels**\n",
        "\n",
        "The labels for this data are categorical and we therefore have to convert them to numeric forms. This is referred to as encoding. Machine learning models usually require input data to be in numeric forms, hence we encoding the labels."
      ]
    },
    {
      "cell_type": "code",
      "execution_count": 15,
      "id": "b251f08b",
      "metadata": {
        "id": "b251f08b"
      },
      "outputs": [],
      "source": [
        "#let's encode target labels (y) with values between 0 and n_classes-1.\n",
        "#encoding will be done using the LabelEncoder\n",
        "label_encoder=LabelEncoder()\n",
        "label_encoder.fit(y)\n",
        "y_encoded=label_encoder.transform(y)\n",
        "labels=label_encoder.classes_\n",
        "classes=np.unique(y_encoded)"
      ]
    },
    {
      "cell_type": "code",
      "execution_count": 16,
      "id": "4769ffe6",
      "metadata": {
        "colab": {
          "base_uri": "https://localhost:8080/"
        },
        "id": "4769ffe6",
        "outputId": "abd841e6-79fa-45cc-bc8f-4cab9aca31f5"
      },
      "outputs": [
        {
          "output_type": "execute_result",
          "data": {
            "text/plain": [
              "array(['BRCA', 'COAD', 'KIRC', 'LUAD', 'PRAD'], dtype=object)"
            ]
          },
          "metadata": {},
          "execution_count": 16
        }
      ],
      "source": [
        "labels"
      ]
    },
    {
      "cell_type": "code",
      "execution_count": 17,
      "id": "8a567de8",
      "metadata": {
        "colab": {
          "base_uri": "https://localhost:8080/"
        },
        "id": "8a567de8",
        "outputId": "cd80a89c-3287-4e4d-85ea-10f2190922a1"
      },
      "outputs": [
        {
          "output_type": "execute_result",
          "data": {
            "text/plain": [
              "array([0, 1, 2, 3, 4])"
            ]
          },
          "metadata": {},
          "execution_count": 17
        }
      ],
      "source": [
        "classes"
      ]
    },
    {
      "cell_type": "markdown",
      "id": "5f68c4f6",
      "metadata": {
        "id": "5f68c4f6"
      },
      "source": [
        "\\\n",
        "**Data Splitting**\\\n",
        "We will now split the data into training and test subsets.\n",
        "The training data is initially parsed to the machine learning model. this is to enable the model to identify discriminatory patterns which can be used to make future predictions.\n",
        "The testing data is used to evaluate the model after the training phase."
      ]
    },
    {
      "cell_type": "code",
      "execution_count": 18,
      "id": "6fada994",
      "metadata": {
        "id": "6fada994"
      },
      "outputs": [],
      "source": [
        "#split data into training and test sets\n",
        "X_train,X_test,y_train,y_test=train_test_split(X,y_encoded,test_size=0.2,random_state=42)"
      ]
    },
    {
      "cell_type": "code",
      "execution_count": 19,
      "id": "0220413f",
      "metadata": {
        "colab": {
          "base_uri": "https://localhost:8080/",
          "height": 320
        },
        "id": "0220413f",
        "outputId": "361f4145-efaf-4b7f-b1fc-b60602dd6642"
      },
      "outputs": [
        {
          "output_type": "execute_result",
          "data": {
            "text/plain": [
              "           gene_1      gene_2      gene_3      gene_4      gene_5      gene_6  \\\n",
              "count  801.000000  801.000000  801.000000  801.000000  801.000000  801.000000   \n",
              "mean     0.026642    0.231049    0.010844    2.405459    0.005799    0.065640   \n",
              "std      0.136850    0.656692    0.153859    0.797236    0.052265    0.213557   \n",
              "min      0.000000    0.000000    0.000000    0.000000    0.000000    0.000000   \n",
              "25%      0.000000    0.000000    0.000000    1.898595    0.000000    0.000000   \n",
              "50%      0.000000    0.000000    0.000000    2.358284    0.000000    0.000000   \n",
              "75%      0.000000    0.000000    0.000000    2.929355    0.000000    0.000000   \n",
              "max      1.482332    6.575004    3.778061    4.746646    0.570754    1.866275   \n",
              "\n",
              "           gene_7      gene_8      gene_9     gene_10  \n",
              "count  801.000000  801.000000  801.000000  801.000000  \n",
              "mean     0.022036    0.028394    0.703998    1.916364  \n",
              "std      0.148917    0.161606    0.779321    0.877010  \n",
              "min      0.000000    0.000000    0.000000    0.000000  \n",
              "25%      0.000000    0.000000    0.000000    1.357214  \n",
              "50%      0.000000    0.000000    0.518031    1.877862  \n",
              "75%      0.000000    0.000000    1.123931    2.486792  \n",
              "max      2.169925    2.375957    4.541670    4.932231  "
            ],
            "text/html": [
              "\n",
              "  <div id=\"df-31b90694-c3da-4714-988a-7baa48ac965c\" class=\"colab-df-container\">\n",
              "    <div>\n",
              "<style scoped>\n",
              "    .dataframe tbody tr th:only-of-type {\n",
              "        vertical-align: middle;\n",
              "    }\n",
              "\n",
              "    .dataframe tbody tr th {\n",
              "        vertical-align: top;\n",
              "    }\n",
              "\n",
              "    .dataframe thead th {\n",
              "        text-align: right;\n",
              "    }\n",
              "</style>\n",
              "<table border=\"1\" class=\"dataframe\">\n",
              "  <thead>\n",
              "    <tr style=\"text-align: right;\">\n",
              "      <th></th>\n",
              "      <th>gene_1</th>\n",
              "      <th>gene_2</th>\n",
              "      <th>gene_3</th>\n",
              "      <th>gene_4</th>\n",
              "      <th>gene_5</th>\n",
              "      <th>gene_6</th>\n",
              "      <th>gene_7</th>\n",
              "      <th>gene_8</th>\n",
              "      <th>gene_9</th>\n",
              "      <th>gene_10</th>\n",
              "    </tr>\n",
              "  </thead>\n",
              "  <tbody>\n",
              "    <tr>\n",
              "      <th>count</th>\n",
              "      <td>801.000000</td>\n",
              "      <td>801.000000</td>\n",
              "      <td>801.000000</td>\n",
              "      <td>801.000000</td>\n",
              "      <td>801.000000</td>\n",
              "      <td>801.000000</td>\n",
              "      <td>801.000000</td>\n",
              "      <td>801.000000</td>\n",
              "      <td>801.000000</td>\n",
              "      <td>801.000000</td>\n",
              "    </tr>\n",
              "    <tr>\n",
              "      <th>mean</th>\n",
              "      <td>0.026642</td>\n",
              "      <td>0.231049</td>\n",
              "      <td>0.010844</td>\n",
              "      <td>2.405459</td>\n",
              "      <td>0.005799</td>\n",
              "      <td>0.065640</td>\n",
              "      <td>0.022036</td>\n",
              "      <td>0.028394</td>\n",
              "      <td>0.703998</td>\n",
              "      <td>1.916364</td>\n",
              "    </tr>\n",
              "    <tr>\n",
              "      <th>std</th>\n",
              "      <td>0.136850</td>\n",
              "      <td>0.656692</td>\n",
              "      <td>0.153859</td>\n",
              "      <td>0.797236</td>\n",
              "      <td>0.052265</td>\n",
              "      <td>0.213557</td>\n",
              "      <td>0.148917</td>\n",
              "      <td>0.161606</td>\n",
              "      <td>0.779321</td>\n",
              "      <td>0.877010</td>\n",
              "    </tr>\n",
              "    <tr>\n",
              "      <th>min</th>\n",
              "      <td>0.000000</td>\n",
              "      <td>0.000000</td>\n",
              "      <td>0.000000</td>\n",
              "      <td>0.000000</td>\n",
              "      <td>0.000000</td>\n",
              "      <td>0.000000</td>\n",
              "      <td>0.000000</td>\n",
              "      <td>0.000000</td>\n",
              "      <td>0.000000</td>\n",
              "      <td>0.000000</td>\n",
              "    </tr>\n",
              "    <tr>\n",
              "      <th>25%</th>\n",
              "      <td>0.000000</td>\n",
              "      <td>0.000000</td>\n",
              "      <td>0.000000</td>\n",
              "      <td>1.898595</td>\n",
              "      <td>0.000000</td>\n",
              "      <td>0.000000</td>\n",
              "      <td>0.000000</td>\n",
              "      <td>0.000000</td>\n",
              "      <td>0.000000</td>\n",
              "      <td>1.357214</td>\n",
              "    </tr>\n",
              "    <tr>\n",
              "      <th>50%</th>\n",
              "      <td>0.000000</td>\n",
              "      <td>0.000000</td>\n",
              "      <td>0.000000</td>\n",
              "      <td>2.358284</td>\n",
              "      <td>0.000000</td>\n",
              "      <td>0.000000</td>\n",
              "      <td>0.000000</td>\n",
              "      <td>0.000000</td>\n",
              "      <td>0.518031</td>\n",
              "      <td>1.877862</td>\n",
              "    </tr>\n",
              "    <tr>\n",
              "      <th>75%</th>\n",
              "      <td>0.000000</td>\n",
              "      <td>0.000000</td>\n",
              "      <td>0.000000</td>\n",
              "      <td>2.929355</td>\n",
              "      <td>0.000000</td>\n",
              "      <td>0.000000</td>\n",
              "      <td>0.000000</td>\n",
              "      <td>0.000000</td>\n",
              "      <td>1.123931</td>\n",
              "      <td>2.486792</td>\n",
              "    </tr>\n",
              "    <tr>\n",
              "      <th>max</th>\n",
              "      <td>1.482332</td>\n",
              "      <td>6.575004</td>\n",
              "      <td>3.778061</td>\n",
              "      <td>4.746646</td>\n",
              "      <td>0.570754</td>\n",
              "      <td>1.866275</td>\n",
              "      <td>2.169925</td>\n",
              "      <td>2.375957</td>\n",
              "      <td>4.541670</td>\n",
              "      <td>4.932231</td>\n",
              "    </tr>\n",
              "  </tbody>\n",
              "</table>\n",
              "</div>\n",
              "    <div class=\"colab-df-buttons\">\n",
              "\n",
              "  <div class=\"colab-df-container\">\n",
              "    <button class=\"colab-df-convert\" onclick=\"convertToInteractive('df-31b90694-c3da-4714-988a-7baa48ac965c')\"\n",
              "            title=\"Convert this dataframe to an interactive table.\"\n",
              "            style=\"display:none;\">\n",
              "\n",
              "  <svg xmlns=\"http://www.w3.org/2000/svg\" height=\"24px\" viewBox=\"0 -960 960 960\">\n",
              "    <path d=\"M120-120v-720h720v720H120Zm60-500h600v-160H180v160Zm220 220h160v-160H400v160Zm0 220h160v-160H400v160ZM180-400h160v-160H180v160Zm440 0h160v-160H620v160ZM180-180h160v-160H180v160Zm440 0h160v-160H620v160Z\"/>\n",
              "  </svg>\n",
              "    </button>\n",
              "\n",
              "  <style>\n",
              "    .colab-df-container {\n",
              "      display:flex;\n",
              "      gap: 12px;\n",
              "    }\n",
              "\n",
              "    .colab-df-convert {\n",
              "      background-color: #E8F0FE;\n",
              "      border: none;\n",
              "      border-radius: 50%;\n",
              "      cursor: pointer;\n",
              "      display: none;\n",
              "      fill: #1967D2;\n",
              "      height: 32px;\n",
              "      padding: 0 0 0 0;\n",
              "      width: 32px;\n",
              "    }\n",
              "\n",
              "    .colab-df-convert:hover {\n",
              "      background-color: #E2EBFA;\n",
              "      box-shadow: 0px 1px 2px rgba(60, 64, 67, 0.3), 0px 1px 3px 1px rgba(60, 64, 67, 0.15);\n",
              "      fill: #174EA6;\n",
              "    }\n",
              "\n",
              "    .colab-df-buttons div {\n",
              "      margin-bottom: 4px;\n",
              "    }\n",
              "\n",
              "    [theme=dark] .colab-df-convert {\n",
              "      background-color: #3B4455;\n",
              "      fill: #D2E3FC;\n",
              "    }\n",
              "\n",
              "    [theme=dark] .colab-df-convert:hover {\n",
              "      background-color: #434B5C;\n",
              "      box-shadow: 0px 1px 3px 1px rgba(0, 0, 0, 0.15);\n",
              "      filter: drop-shadow(0px 1px 2px rgba(0, 0, 0, 0.3));\n",
              "      fill: #FFFFFF;\n",
              "    }\n",
              "  </style>\n",
              "\n",
              "    <script>\n",
              "      const buttonEl =\n",
              "        document.querySelector('#df-31b90694-c3da-4714-988a-7baa48ac965c button.colab-df-convert');\n",
              "      buttonEl.style.display =\n",
              "        google.colab.kernel.accessAllowed ? 'block' : 'none';\n",
              "\n",
              "      async function convertToInteractive(key) {\n",
              "        const element = document.querySelector('#df-31b90694-c3da-4714-988a-7baa48ac965c');\n",
              "        const dataTable =\n",
              "          await google.colab.kernel.invokeFunction('convertToInteractive',\n",
              "                                                    [key], {});\n",
              "        if (!dataTable) return;\n",
              "\n",
              "        const docLinkHtml = 'Like what you see? Visit the ' +\n",
              "          '<a target=\"_blank\" href=https://colab.research.google.com/notebooks/data_table.ipynb>data table notebook</a>'\n",
              "          + ' to learn more about interactive tables.';\n",
              "        element.innerHTML = '';\n",
              "        dataTable['output_type'] = 'display_data';\n",
              "        await google.colab.output.renderOutput(dataTable, element);\n",
              "        const docLink = document.createElement('div');\n",
              "        docLink.innerHTML = docLinkHtml;\n",
              "        element.appendChild(docLink);\n",
              "      }\n",
              "    </script>\n",
              "  </div>\n",
              "\n",
              "\n",
              "<div id=\"df-625ec127-5dbc-418a-a4e2-b588816bcda8\">\n",
              "  <button class=\"colab-df-quickchart\" onclick=\"quickchart('df-625ec127-5dbc-418a-a4e2-b588816bcda8')\"\n",
              "            title=\"Suggest charts\"\n",
              "            style=\"display:none;\">\n",
              "\n",
              "<svg xmlns=\"http://www.w3.org/2000/svg\" height=\"24px\"viewBox=\"0 0 24 24\"\n",
              "     width=\"24px\">\n",
              "    <g>\n",
              "        <path d=\"M19 3H5c-1.1 0-2 .9-2 2v14c0 1.1.9 2 2 2h14c1.1 0 2-.9 2-2V5c0-1.1-.9-2-2-2zM9 17H7v-7h2v7zm4 0h-2V7h2v10zm4 0h-2v-4h2v4z\"/>\n",
              "    </g>\n",
              "</svg>\n",
              "  </button>\n",
              "\n",
              "<style>\n",
              "  .colab-df-quickchart {\n",
              "      --bg-color: #E8F0FE;\n",
              "      --fill-color: #1967D2;\n",
              "      --hover-bg-color: #E2EBFA;\n",
              "      --hover-fill-color: #174EA6;\n",
              "      --disabled-fill-color: #AAA;\n",
              "      --disabled-bg-color: #DDD;\n",
              "  }\n",
              "\n",
              "  [theme=dark] .colab-df-quickchart {\n",
              "      --bg-color: #3B4455;\n",
              "      --fill-color: #D2E3FC;\n",
              "      --hover-bg-color: #434B5C;\n",
              "      --hover-fill-color: #FFFFFF;\n",
              "      --disabled-bg-color: #3B4455;\n",
              "      --disabled-fill-color: #666;\n",
              "  }\n",
              "\n",
              "  .colab-df-quickchart {\n",
              "    background-color: var(--bg-color);\n",
              "    border: none;\n",
              "    border-radius: 50%;\n",
              "    cursor: pointer;\n",
              "    display: none;\n",
              "    fill: var(--fill-color);\n",
              "    height: 32px;\n",
              "    padding: 0;\n",
              "    width: 32px;\n",
              "  }\n",
              "\n",
              "  .colab-df-quickchart:hover {\n",
              "    background-color: var(--hover-bg-color);\n",
              "    box-shadow: 0 1px 2px rgba(60, 64, 67, 0.3), 0 1px 3px 1px rgba(60, 64, 67, 0.15);\n",
              "    fill: var(--button-hover-fill-color);\n",
              "  }\n",
              "\n",
              "  .colab-df-quickchart-complete:disabled,\n",
              "  .colab-df-quickchart-complete:disabled:hover {\n",
              "    background-color: var(--disabled-bg-color);\n",
              "    fill: var(--disabled-fill-color);\n",
              "    box-shadow: none;\n",
              "  }\n",
              "\n",
              "  .colab-df-spinner {\n",
              "    border: 2px solid var(--fill-color);\n",
              "    border-color: transparent;\n",
              "    border-bottom-color: var(--fill-color);\n",
              "    animation:\n",
              "      spin 1s steps(1) infinite;\n",
              "  }\n",
              "\n",
              "  @keyframes spin {\n",
              "    0% {\n",
              "      border-color: transparent;\n",
              "      border-bottom-color: var(--fill-color);\n",
              "      border-left-color: var(--fill-color);\n",
              "    }\n",
              "    20% {\n",
              "      border-color: transparent;\n",
              "      border-left-color: var(--fill-color);\n",
              "      border-top-color: var(--fill-color);\n",
              "    }\n",
              "    30% {\n",
              "      border-color: transparent;\n",
              "      border-left-color: var(--fill-color);\n",
              "      border-top-color: var(--fill-color);\n",
              "      border-right-color: var(--fill-color);\n",
              "    }\n",
              "    40% {\n",
              "      border-color: transparent;\n",
              "      border-right-color: var(--fill-color);\n",
              "      border-top-color: var(--fill-color);\n",
              "    }\n",
              "    60% {\n",
              "      border-color: transparent;\n",
              "      border-right-color: var(--fill-color);\n",
              "    }\n",
              "    80% {\n",
              "      border-color: transparent;\n",
              "      border-right-color: var(--fill-color);\n",
              "      border-bottom-color: var(--fill-color);\n",
              "    }\n",
              "    90% {\n",
              "      border-color: transparent;\n",
              "      border-bottom-color: var(--fill-color);\n",
              "    }\n",
              "  }\n",
              "</style>\n",
              "\n",
              "  <script>\n",
              "    async function quickchart(key) {\n",
              "      const quickchartButtonEl =\n",
              "        document.querySelector('#' + key + ' button');\n",
              "      quickchartButtonEl.disabled = true;  // To prevent multiple clicks.\n",
              "      quickchartButtonEl.classList.add('colab-df-spinner');\n",
              "      try {\n",
              "        const charts = await google.colab.kernel.invokeFunction(\n",
              "            'suggestCharts', [key], {});\n",
              "      } catch (error) {\n",
              "        console.error('Error during call to suggestCharts:', error);\n",
              "      }\n",
              "      quickchartButtonEl.classList.remove('colab-df-spinner');\n",
              "      quickchartButtonEl.classList.add('colab-df-quickchart-complete');\n",
              "    }\n",
              "    (() => {\n",
              "      let quickchartButtonEl =\n",
              "        document.querySelector('#df-625ec127-5dbc-418a-a4e2-b588816bcda8 button');\n",
              "      quickchartButtonEl.style.display =\n",
              "        google.colab.kernel.accessAllowed ? 'block' : 'none';\n",
              "    })();\n",
              "  </script>\n",
              "</div>\n",
              "    </div>\n",
              "  </div>\n"
            ],
            "application/vnd.google.colaboratory.intrinsic+json": {
              "type": "dataframe",
              "summary": "{\n  \"name\": \"dataframe\",\n  \"rows\": 8,\n  \"fields\": [\n    {\n      \"column\": \"gene_1\",\n      \"properties\": {\n        \"dtype\": \"number\",\n        \"std\": 283.11360089443195,\n        \"min\": 0.0,\n        \"max\": 801.0,\n        \"num_unique_values\": 5,\n        \"samples\": [\n          0.026641551206685394,\n          1.48233202075,\n          0.13684952015251303\n        ],\n        \"semantic_type\": \"\",\n        \"description\": \"\"\n      }\n    },\n    {\n      \"column\": \"gene_2\",\n      \"properties\": {\n        \"dtype\": \"number\",\n        \"std\": 282.82837153150757,\n        \"min\": 0.0,\n        \"max\": 801.0,\n        \"num_unique_values\": 5,\n        \"samples\": [\n          0.23104873127019224,\n          6.57500366744,\n          0.6566918201605295\n        ],\n        \"semantic_type\": \"\",\n        \"description\": \"\"\n      }\n    },\n    {\n      \"column\": \"gene_3\",\n      \"properties\": {\n        \"dtype\": \"number\",\n        \"std\": 283.00017436223027,\n        \"min\": 0.0,\n        \"max\": 801.0,\n        \"num_unique_values\": 5,\n        \"samples\": [\n          0.010843739319982521,\n          3.77806135511,\n          0.15385915385938595\n        ],\n        \"semantic_type\": \"\",\n        \"description\": \"\"\n      }\n    },\n    {\n      \"column\": \"gene_4\",\n      \"properties\": {\n        \"dtype\": \"number\",\n        \"std\": 282.43533777830004,\n        \"min\": 0.0,\n        \"max\": 801.0,\n        \"num_unique_values\": 8,\n        \"samples\": [\n          2.4054587469393756,\n          2.35828372285,\n          801.0\n        ],\n        \"semantic_type\": \"\",\n        \"description\": \"\"\n      }\n    },\n    {\n      \"column\": \"gene_5\",\n      \"properties\": {\n        \"dtype\": \"number\",\n        \"std\": 283.16457434996664,\n        \"min\": 0.0,\n        \"max\": 801.0,\n        \"num_unique_values\": 5,\n        \"samples\": [\n          0.005799231612901373,\n          0.570754355134,\n          0.05226504799177896\n        ],\n        \"semantic_type\": \"\",\n        \"description\": \"\"\n      }\n    },\n    {\n      \"column\": \"gene_6\",\n      \"properties\": {\n        \"dtype\": \"number\",\n        \"std\": 283.08862865521473,\n        \"min\": 0.0,\n        \"max\": 801.0,\n        \"num_unique_values\": 5,\n        \"samples\": [\n          0.0656399415371523,\n          1.86627499158,\n          0.21355722197272398\n        ],\n        \"semantic_type\": \"\",\n        \"description\": \"\"\n      }\n    },\n    {\n      \"column\": \"gene_7\",\n      \"properties\": {\n        \"dtype\": \"number\",\n        \"std\": 283.0790299233125,\n        \"min\": 0.0,\n        \"max\": 801.0,\n        \"num_unique_values\": 5,\n        \"samples\": [\n          0.022036429781465666,\n          2.16992500144,\n          0.14891745025382125\n        ],\n        \"semantic_type\": \"\",\n        \"description\": \"\"\n      }\n    },\n    {\n      \"column\": \"gene_8\",\n      \"properties\": {\n        \"dtype\": \"number\",\n        \"std\": 283.06785937615047,\n        \"min\": 0.0,\n        \"max\": 801.0,\n        \"num_unique_values\": 5,\n        \"samples\": [\n          0.028394259385249684,\n          2.37595690218,\n          0.1616063626630504\n        ],\n        \"semantic_type\": \"\",\n        \"description\": \"\"\n      }\n    },\n    {\n      \"column\": \"gene_9\",\n      \"properties\": {\n        \"dtype\": \"number\",\n        \"std\": 282.8127804569991,\n        \"min\": 0.0,\n        \"max\": 801.0,\n        \"num_unique_values\": 7,\n        \"samples\": [\n          801.0,\n          0.7039978780096168,\n          1.12393100832\n        ],\n        \"semantic_type\": \"\",\n        \"description\": \"\"\n      }\n    },\n    {\n      \"column\": \"gene_10\",\n      \"properties\": {\n        \"dtype\": \"number\",\n        \"std\": 282.52072875060827,\n        \"min\": 0.0,\n        \"max\": 801.0,\n        \"num_unique_values\": 8,\n        \"samples\": [\n          1.9163641201925807,\n          1.87786201617,\n          801.0\n        ],\n        \"semantic_type\": \"\",\n        \"description\": \"\"\n      }\n    }\n  ]\n}"
            }
          },
          "metadata": {},
          "execution_count": 19
        }
      ],
      "source": [
        "dataframe.iloc[:,0:10].describe()"
      ]
    },
    {
      "cell_type": "markdown",
      "id": "0d1c8d5e",
      "metadata": {
        "id": "0d1c8d5e"
      },
      "source": [
        "\\\n",
        "**Data Normalization**\\\n",
        "Data normalization is done so that the values are in the same range. This will improve model performance and avoid bias"
      ]
    },
    {
      "cell_type": "code",
      "execution_count": 20,
      "id": "909e93b4",
      "metadata": {
        "id": "909e93b4"
      },
      "outputs": [],
      "source": [
        "# scale data between 0 and 1\n",
        "\n",
        "min_max_scaler=MinMaxScaler()\n",
        "X_train_norm=min_max_scaler.fit_transform(X_train)\n",
        "X_test_norm=min_max_scaler.fit_transform(X_test)"
      ]
    },
    {
      "cell_type": "markdown",
      "id": "2127f034",
      "metadata": {
        "id": "2127f034"
      },
      "source": [
        "## **Feature Selection**\n",
        "The purpose of feature selection is to select relevant features for classification.\n",
        "Feature selection is usually used as a pre-processing step before doing the actual learning.\n",
        "\n",
        "In this tutorial, mutual information algorithm is used to compute the relevance of each feature. The top n (eg. 300) features are selected for the machine learning analysis."
      ]
    },
    {
      "cell_type": "markdown",
      "id": "4665aa65",
      "metadata": {
        "id": "4665aa65"
      },
      "source": [
        "### Feature Selection using Mutual Information"
      ]
    },
    {
      "cell_type": "code",
      "execution_count": 22,
      "id": "fe32fd84",
      "metadata": {
        "id": "fe32fd84"
      },
      "outputs": [],
      "source": [
        "MI=mutual_info_classif(X_train_norm,y_train)"
      ]
    },
    {
      "cell_type": "code",
      "source": [
        "MI.shape"
      ],
      "metadata": {
        "colab": {
          "base_uri": "https://localhost:8080/"
        },
        "id": "-Ubxtdy90hYQ",
        "outputId": "899799c8-b987-4cb7-ae37-7806f9c66ebd"
      },
      "id": "-Ubxtdy90hYQ",
      "execution_count": 23,
      "outputs": [
        {
          "output_type": "execute_result",
          "data": {
            "text/plain": [
              "(8000,)"
            ]
          },
          "metadata": {},
          "execution_count": 23
        }
      ]
    },
    {
      "cell_type": "code",
      "source": [
        "features=X_train.columns\n",
        "features[0:5]"
      ],
      "metadata": {
        "colab": {
          "base_uri": "https://localhost:8080/"
        },
        "id": "cgb5HeNI0lfP",
        "outputId": "29ffa4c0-2486-4c6d-dea4-2d974455e6a6"
      },
      "id": "cgb5HeNI0lfP",
      "execution_count": 25,
      "outputs": [
        {
          "output_type": "execute_result",
          "data": {
            "text/plain": [
              "Index(['gene_1', 'gene_2', 'gene_3', 'gene_4', 'gene_5'], dtype='object')"
            ]
          },
          "metadata": {},
          "execution_count": 25
        }
      ]
    },
    {
      "cell_type": "code",
      "execution_count": 26,
      "id": "697d3a17",
      "metadata": {
        "id": "697d3a17"
      },
      "outputs": [],
      "source": [
        "#select top n features. lets say 300.\n",
        "#you can modify the value and see how the performance of the model changes\n",
        "\n",
        "n_features=300\n",
        "selected_scores_indices=np.argsort(MI)[::-1][0:n_features]"
      ]
    },
    {
      "cell_type": "code",
      "execution_count": 27,
      "id": "45740745",
      "metadata": {
        "id": "45740745"
      },
      "outputs": [],
      "source": [
        "X_train_selected=X_train_norm[:,selected_scores_indices]\n",
        "X_test_selected=X_test_norm[:,selected_scores_indices]"
      ]
    },
    {
      "cell_type": "code",
      "execution_count": 28,
      "id": "a27f5b7f",
      "metadata": {
        "colab": {
          "base_uri": "https://localhost:8080/"
        },
        "id": "a27f5b7f",
        "outputId": "04efcf26-5137-4b0b-dab9-87a7980392b9"
      },
      "outputs": [
        {
          "output_type": "execute_result",
          "data": {
            "text/plain": [
              "(640, 300)"
            ]
          },
          "metadata": {},
          "execution_count": 28
        }
      ],
      "source": [
        "X_train_selected.shape"
      ]
    },
    {
      "cell_type": "code",
      "execution_count": 29,
      "id": "49e45da0",
      "metadata": {
        "colab": {
          "base_uri": "https://localhost:8080/"
        },
        "id": "49e45da0",
        "outputId": "a614faab-9d6e-4ddc-f6de-e2f240c23a82"
      },
      "outputs": [
        {
          "output_type": "execute_result",
          "data": {
            "text/plain": [
              "(161, 300)"
            ]
          },
          "metadata": {},
          "execution_count": 29
        }
      ],
      "source": [
        "X_test_selected.shape"
      ]
    },
    {
      "cell_type": "markdown",
      "id": "58c6d53d",
      "metadata": {
        "id": "58c6d53d"
      },
      "source": [
        "## Classification\n",
        "The random forest classifier is used in this tutorial. Random forest works with multiclass and high dimensional data. Classification will involve training and testing of the model"
      ]
    },
    {
      "cell_type": "markdown",
      "id": "c0f0ba2c",
      "metadata": {
        "id": "c0f0ba2c"
      },
      "source": [
        "### Model Training\n",
        "Training allows the machine learning model to learn from the data and use the identified patterns to predict the outcomes of data it has never seen before.\n",
        "In the training phase, the model is given the training subset. In this tutorial, the Random Forest Classifier is used."
      ]
    },
    {
      "cell_type": "code",
      "execution_count": 30,
      "id": "2b622ef8",
      "metadata": {
        "id": "2b622ef8"
      },
      "outputs": [],
      "source": [
        "#Random Forest Classifier\n",
        "#because we are dealing with multiclass data, the one versus rest strategy is used.\n",
        "#learn to predict each class against the other.\n",
        "\n",
        "RF=OneVsRestClassifier(RandomForestClassifier(max_features=0.2))\n",
        "RF.fit(X_train_selected,y_train)\n",
        "y_pred =RF.predict(X_test_selected)\n",
        "pred_prob = RF.predict_proba(X_test_selected)"
      ]
    },
    {
      "cell_type": "markdown",
      "id": "8a796a80",
      "metadata": {
        "id": "8a796a80"
      },
      "source": [
        "### Model Evaluation\n",
        "\n",
        "After training the model, it is important to know how the model performs on an independent data(i.e. the test data). The following metrics are used to evaluate the model\n",
        "- accuracy\n",
        "- precision\n",
        "- recall\n",
        "- f1 score\n",
        "- confusion matrix\n",
        "- ROC Curve\n",
        "\n"
      ]
    },
    {
      "cell_type": "code",
      "execution_count": 31,
      "id": "f74ae2bb",
      "metadata": {
        "scrolled": true,
        "colab": {
          "base_uri": "https://localhost:8080/"
        },
        "id": "f74ae2bb",
        "outputId": "f92cb304-f283-4b25-d106-24d34417f108"
      },
      "outputs": [
        {
          "output_type": "stream",
          "name": "stdout",
          "text": [
            "accuracy:0.9701\n",
            "precision:0.9767\n",
            "recall:0.9752\n",
            "f1score:0.9752\n",
            "\n",
            "\n",
            "classification report\n",
            "\n",
            "\n",
            "              precision    recall  f1-score   support\n",
            "\n",
            "        BRCA       0.94      1.00      0.97        60\n",
            "        COAD       1.00      1.00      1.00        16\n",
            "        KIRC       1.00      0.96      0.98        28\n",
            "        LUAD       1.00      0.92      0.96        24\n",
            "        PRAD       1.00      0.97      0.98        33\n",
            "\n",
            "    accuracy                           0.98       161\n",
            "   macro avg       0.99      0.97      0.98       161\n",
            "weighted avg       0.98      0.98      0.98       161\n",
            "\n"
          ]
        }
      ],
      "source": [
        "#accuracy\n",
        "accuracy=np.round(balanced_accuracy_score(y_test,y_pred),4)\n",
        "print('accuracy:%0.4f'%accuracy)\n",
        "\n",
        "#precision\n",
        "precision=np.round(precision_score(y_test,y_pred,average = 'weighted'),4)\n",
        "print('precision:%0.4f'%precision)\n",
        "\n",
        "#recall\n",
        "recall=np.round(recall_score(y_test,y_pred,average = 'weighted'),4)\n",
        "print('recall:%0.4f'%recall)\n",
        "\n",
        "#f1score\n",
        "f1score=np.round(f1_score(y_test,y_pred,average = 'weighted'),4)\n",
        "print('f1score:%0.4f'%f1score)\n",
        "\n",
        "\n",
        "report=classification_report(y_test,y_pred, target_names=labels)\n",
        "print('\\n')\n",
        "print('classification report\\n\\n')\n",
        "print(report)"
      ]
    },
    {
      "cell_type": "code",
      "execution_count": 32,
      "id": "dbb3ea3e",
      "metadata": {
        "scrolled": false,
        "id": "dbb3ea3e"
      },
      "outputs": [],
      "source": [
        "#generate confusion matrix\n",
        "cm=confusion_matrix(y_test,y_pred)\n",
        "cm_df=pd.DataFrame(cm,index=labels,columns=labels)"
      ]
    },
    {
      "cell_type": "code",
      "execution_count": 35,
      "id": "4c3dc4bb",
      "metadata": {
        "scrolled": false,
        "colab": {
          "base_uri": "https://localhost:8080/",
          "height": 206
        },
        "id": "4c3dc4bb",
        "outputId": "75c26a2b-f7af-474d-8e17-aef91e62bc30"
      },
      "outputs": [
        {
          "output_type": "execute_result",
          "data": {
            "text/plain": [
              "      BRCA  COAD  KIRC  LUAD  PRAD\n",
              "BRCA    60     0     0     0     0\n",
              "COAD     0    16     0     0     0\n",
              "KIRC     1     0    27     0     0\n",
              "LUAD     2     0     0    22     0\n",
              "PRAD     1     0     0     0    32"
            ],
            "text/html": [
              "\n",
              "  <div id=\"df-e6722f77-6eab-4c14-8fdd-bb41609e8b56\" class=\"colab-df-container\">\n",
              "    <div>\n",
              "<style scoped>\n",
              "    .dataframe tbody tr th:only-of-type {\n",
              "        vertical-align: middle;\n",
              "    }\n",
              "\n",
              "    .dataframe tbody tr th {\n",
              "        vertical-align: top;\n",
              "    }\n",
              "\n",
              "    .dataframe thead th {\n",
              "        text-align: right;\n",
              "    }\n",
              "</style>\n",
              "<table border=\"1\" class=\"dataframe\">\n",
              "  <thead>\n",
              "    <tr style=\"text-align: right;\">\n",
              "      <th></th>\n",
              "      <th>BRCA</th>\n",
              "      <th>COAD</th>\n",
              "      <th>KIRC</th>\n",
              "      <th>LUAD</th>\n",
              "      <th>PRAD</th>\n",
              "    </tr>\n",
              "  </thead>\n",
              "  <tbody>\n",
              "    <tr>\n",
              "      <th>BRCA</th>\n",
              "      <td>60</td>\n",
              "      <td>0</td>\n",
              "      <td>0</td>\n",
              "      <td>0</td>\n",
              "      <td>0</td>\n",
              "    </tr>\n",
              "    <tr>\n",
              "      <th>COAD</th>\n",
              "      <td>0</td>\n",
              "      <td>16</td>\n",
              "      <td>0</td>\n",
              "      <td>0</td>\n",
              "      <td>0</td>\n",
              "    </tr>\n",
              "    <tr>\n",
              "      <th>KIRC</th>\n",
              "      <td>1</td>\n",
              "      <td>0</td>\n",
              "      <td>27</td>\n",
              "      <td>0</td>\n",
              "      <td>0</td>\n",
              "    </tr>\n",
              "    <tr>\n",
              "      <th>LUAD</th>\n",
              "      <td>2</td>\n",
              "      <td>0</td>\n",
              "      <td>0</td>\n",
              "      <td>22</td>\n",
              "      <td>0</td>\n",
              "    </tr>\n",
              "    <tr>\n",
              "      <th>PRAD</th>\n",
              "      <td>1</td>\n",
              "      <td>0</td>\n",
              "      <td>0</td>\n",
              "      <td>0</td>\n",
              "      <td>32</td>\n",
              "    </tr>\n",
              "  </tbody>\n",
              "</table>\n",
              "</div>\n",
              "    <div class=\"colab-df-buttons\">\n",
              "\n",
              "  <div class=\"colab-df-container\">\n",
              "    <button class=\"colab-df-convert\" onclick=\"convertToInteractive('df-e6722f77-6eab-4c14-8fdd-bb41609e8b56')\"\n",
              "            title=\"Convert this dataframe to an interactive table.\"\n",
              "            style=\"display:none;\">\n",
              "\n",
              "  <svg xmlns=\"http://www.w3.org/2000/svg\" height=\"24px\" viewBox=\"0 -960 960 960\">\n",
              "    <path d=\"M120-120v-720h720v720H120Zm60-500h600v-160H180v160Zm220 220h160v-160H400v160Zm0 220h160v-160H400v160ZM180-400h160v-160H180v160Zm440 0h160v-160H620v160ZM180-180h160v-160H180v160Zm440 0h160v-160H620v160Z\"/>\n",
              "  </svg>\n",
              "    </button>\n",
              "\n",
              "  <style>\n",
              "    .colab-df-container {\n",
              "      display:flex;\n",
              "      gap: 12px;\n",
              "    }\n",
              "\n",
              "    .colab-df-convert {\n",
              "      background-color: #E8F0FE;\n",
              "      border: none;\n",
              "      border-radius: 50%;\n",
              "      cursor: pointer;\n",
              "      display: none;\n",
              "      fill: #1967D2;\n",
              "      height: 32px;\n",
              "      padding: 0 0 0 0;\n",
              "      width: 32px;\n",
              "    }\n",
              "\n",
              "    .colab-df-convert:hover {\n",
              "      background-color: #E2EBFA;\n",
              "      box-shadow: 0px 1px 2px rgba(60, 64, 67, 0.3), 0px 1px 3px 1px rgba(60, 64, 67, 0.15);\n",
              "      fill: #174EA6;\n",
              "    }\n",
              "\n",
              "    .colab-df-buttons div {\n",
              "      margin-bottom: 4px;\n",
              "    }\n",
              "\n",
              "    [theme=dark] .colab-df-convert {\n",
              "      background-color: #3B4455;\n",
              "      fill: #D2E3FC;\n",
              "    }\n",
              "\n",
              "    [theme=dark] .colab-df-convert:hover {\n",
              "      background-color: #434B5C;\n",
              "      box-shadow: 0px 1px 3px 1px rgba(0, 0, 0, 0.15);\n",
              "      filter: drop-shadow(0px 1px 2px rgba(0, 0, 0, 0.3));\n",
              "      fill: #FFFFFF;\n",
              "    }\n",
              "  </style>\n",
              "\n",
              "    <script>\n",
              "      const buttonEl =\n",
              "        document.querySelector('#df-e6722f77-6eab-4c14-8fdd-bb41609e8b56 button.colab-df-convert');\n",
              "      buttonEl.style.display =\n",
              "        google.colab.kernel.accessAllowed ? 'block' : 'none';\n",
              "\n",
              "      async function convertToInteractive(key) {\n",
              "        const element = document.querySelector('#df-e6722f77-6eab-4c14-8fdd-bb41609e8b56');\n",
              "        const dataTable =\n",
              "          await google.colab.kernel.invokeFunction('convertToInteractive',\n",
              "                                                    [key], {});\n",
              "        if (!dataTable) return;\n",
              "\n",
              "        const docLinkHtml = 'Like what you see? Visit the ' +\n",
              "          '<a target=\"_blank\" href=https://colab.research.google.com/notebooks/data_table.ipynb>data table notebook</a>'\n",
              "          + ' to learn more about interactive tables.';\n",
              "        element.innerHTML = '';\n",
              "        dataTable['output_type'] = 'display_data';\n",
              "        await google.colab.output.renderOutput(dataTable, element);\n",
              "        const docLink = document.createElement('div');\n",
              "        docLink.innerHTML = docLinkHtml;\n",
              "        element.appendChild(docLink);\n",
              "      }\n",
              "    </script>\n",
              "  </div>\n",
              "\n",
              "\n",
              "<div id=\"df-10be627d-7173-4650-a135-c198a1a2b881\">\n",
              "  <button class=\"colab-df-quickchart\" onclick=\"quickchart('df-10be627d-7173-4650-a135-c198a1a2b881')\"\n",
              "            title=\"Suggest charts\"\n",
              "            style=\"display:none;\">\n",
              "\n",
              "<svg xmlns=\"http://www.w3.org/2000/svg\" height=\"24px\"viewBox=\"0 0 24 24\"\n",
              "     width=\"24px\">\n",
              "    <g>\n",
              "        <path d=\"M19 3H5c-1.1 0-2 .9-2 2v14c0 1.1.9 2 2 2h14c1.1 0 2-.9 2-2V5c0-1.1-.9-2-2-2zM9 17H7v-7h2v7zm4 0h-2V7h2v10zm4 0h-2v-4h2v4z\"/>\n",
              "    </g>\n",
              "</svg>\n",
              "  </button>\n",
              "\n",
              "<style>\n",
              "  .colab-df-quickchart {\n",
              "      --bg-color: #E8F0FE;\n",
              "      --fill-color: #1967D2;\n",
              "      --hover-bg-color: #E2EBFA;\n",
              "      --hover-fill-color: #174EA6;\n",
              "      --disabled-fill-color: #AAA;\n",
              "      --disabled-bg-color: #DDD;\n",
              "  }\n",
              "\n",
              "  [theme=dark] .colab-df-quickchart {\n",
              "      --bg-color: #3B4455;\n",
              "      --fill-color: #D2E3FC;\n",
              "      --hover-bg-color: #434B5C;\n",
              "      --hover-fill-color: #FFFFFF;\n",
              "      --disabled-bg-color: #3B4455;\n",
              "      --disabled-fill-color: #666;\n",
              "  }\n",
              "\n",
              "  .colab-df-quickchart {\n",
              "    background-color: var(--bg-color);\n",
              "    border: none;\n",
              "    border-radius: 50%;\n",
              "    cursor: pointer;\n",
              "    display: none;\n",
              "    fill: var(--fill-color);\n",
              "    height: 32px;\n",
              "    padding: 0;\n",
              "    width: 32px;\n",
              "  }\n",
              "\n",
              "  .colab-df-quickchart:hover {\n",
              "    background-color: var(--hover-bg-color);\n",
              "    box-shadow: 0 1px 2px rgba(60, 64, 67, 0.3), 0 1px 3px 1px rgba(60, 64, 67, 0.15);\n",
              "    fill: var(--button-hover-fill-color);\n",
              "  }\n",
              "\n",
              "  .colab-df-quickchart-complete:disabled,\n",
              "  .colab-df-quickchart-complete:disabled:hover {\n",
              "    background-color: var(--disabled-bg-color);\n",
              "    fill: var(--disabled-fill-color);\n",
              "    box-shadow: none;\n",
              "  }\n",
              "\n",
              "  .colab-df-spinner {\n",
              "    border: 2px solid var(--fill-color);\n",
              "    border-color: transparent;\n",
              "    border-bottom-color: var(--fill-color);\n",
              "    animation:\n",
              "      spin 1s steps(1) infinite;\n",
              "  }\n",
              "\n",
              "  @keyframes spin {\n",
              "    0% {\n",
              "      border-color: transparent;\n",
              "      border-bottom-color: var(--fill-color);\n",
              "      border-left-color: var(--fill-color);\n",
              "    }\n",
              "    20% {\n",
              "      border-color: transparent;\n",
              "      border-left-color: var(--fill-color);\n",
              "      border-top-color: var(--fill-color);\n",
              "    }\n",
              "    30% {\n",
              "      border-color: transparent;\n",
              "      border-left-color: var(--fill-color);\n",
              "      border-top-color: var(--fill-color);\n",
              "      border-right-color: var(--fill-color);\n",
              "    }\n",
              "    40% {\n",
              "      border-color: transparent;\n",
              "      border-right-color: var(--fill-color);\n",
              "      border-top-color: var(--fill-color);\n",
              "    }\n",
              "    60% {\n",
              "      border-color: transparent;\n",
              "      border-right-color: var(--fill-color);\n",
              "    }\n",
              "    80% {\n",
              "      border-color: transparent;\n",
              "      border-right-color: var(--fill-color);\n",
              "      border-bottom-color: var(--fill-color);\n",
              "    }\n",
              "    90% {\n",
              "      border-color: transparent;\n",
              "      border-bottom-color: var(--fill-color);\n",
              "    }\n",
              "  }\n",
              "</style>\n",
              "\n",
              "  <script>\n",
              "    async function quickchart(key) {\n",
              "      const quickchartButtonEl =\n",
              "        document.querySelector('#' + key + ' button');\n",
              "      quickchartButtonEl.disabled = true;  // To prevent multiple clicks.\n",
              "      quickchartButtonEl.classList.add('colab-df-spinner');\n",
              "      try {\n",
              "        const charts = await google.colab.kernel.invokeFunction(\n",
              "            'suggestCharts', [key], {});\n",
              "      } catch (error) {\n",
              "        console.error('Error during call to suggestCharts:', error);\n",
              "      }\n",
              "      quickchartButtonEl.classList.remove('colab-df-spinner');\n",
              "      quickchartButtonEl.classList.add('colab-df-quickchart-complete');\n",
              "    }\n",
              "    (() => {\n",
              "      let quickchartButtonEl =\n",
              "        document.querySelector('#df-10be627d-7173-4650-a135-c198a1a2b881 button');\n",
              "      quickchartButtonEl.style.display =\n",
              "        google.colab.kernel.accessAllowed ? 'block' : 'none';\n",
              "    })();\n",
              "  </script>\n",
              "</div>\n",
              "    </div>\n",
              "  </div>\n"
            ],
            "application/vnd.google.colaboratory.intrinsic+json": {
              "type": "dataframe",
              "variable_name": "cm_df",
              "summary": "{\n  \"name\": \"cm_df\",\n  \"rows\": 5,\n  \"fields\": [\n    {\n      \"column\": \"BRCA\",\n      \"properties\": {\n        \"dtype\": \"number\",\n        \"std\": 26,\n        \"min\": 0,\n        \"max\": 60,\n        \"num_unique_values\": 4,\n        \"samples\": [\n          0,\n          2,\n          60\n        ],\n        \"semantic_type\": \"\",\n        \"description\": \"\"\n      }\n    },\n    {\n      \"column\": \"COAD\",\n      \"properties\": {\n        \"dtype\": \"number\",\n        \"std\": 7,\n        \"min\": 0,\n        \"max\": 16,\n        \"num_unique_values\": 2,\n        \"samples\": [\n          16,\n          0\n        ],\n        \"semantic_type\": \"\",\n        \"description\": \"\"\n      }\n    },\n    {\n      \"column\": \"KIRC\",\n      \"properties\": {\n        \"dtype\": \"number\",\n        \"std\": 12,\n        \"min\": 0,\n        \"max\": 27,\n        \"num_unique_values\": 2,\n        \"samples\": [\n          27,\n          0\n        ],\n        \"semantic_type\": \"\",\n        \"description\": \"\"\n      }\n    },\n    {\n      \"column\": \"LUAD\",\n      \"properties\": {\n        \"dtype\": \"number\",\n        \"std\": 9,\n        \"min\": 0,\n        \"max\": 22,\n        \"num_unique_values\": 2,\n        \"samples\": [\n          22,\n          0\n        ],\n        \"semantic_type\": \"\",\n        \"description\": \"\"\n      }\n    },\n    {\n      \"column\": \"PRAD\",\n      \"properties\": {\n        \"dtype\": \"number\",\n        \"std\": 14,\n        \"min\": 0,\n        \"max\": 32,\n        \"num_unique_values\": 2,\n        \"samples\": [\n          32,\n          0\n        ],\n        \"semantic_type\": \"\",\n        \"description\": \"\"\n      }\n    }\n  ]\n}"
            }
          },
          "metadata": {},
          "execution_count": 35
        }
      ],
      "source": [
        "cm_df"
      ]
    },
    {
      "cell_type": "code",
      "execution_count": 34,
      "id": "a15b3c16",
      "metadata": {
        "scrolled": true,
        "colab": {
          "base_uri": "https://localhost:8080/",
          "height": 473
        },
        "id": "a15b3c16",
        "outputId": "d9fd6e88-968e-498b-eb4e-733f64ed8155"
      },
      "outputs": [
        {
          "output_type": "execute_result",
          "data": {
            "text/plain": [
              "Text(50.722222222222214, 0.5, 'True Labels')"
            ]
          },
          "metadata": {},
          "execution_count": 34
        },
        {
          "output_type": "display_data",
          "data": {
            "text/plain": [
              "<Figure size 640x480 with 2 Axes>"
            ],
            "image/png": "[encoded data removed]"
          },
          "metadata": {}
        }
      ],
      "source": [
        "#visualize the confusion matrix using seaborn\n",
        "\n",
        "sns.heatmap(cm_df,annot=True,cmap='Blues')\n",
        "plt.xlabel('Predicted Labels')\n",
        "plt.ylabel('True Labels')"
      ]
    },
    {
      "cell_type": "code",
      "execution_count": 37,
      "id": "5dac2ad7",
      "metadata": {
        "scrolled": false,
        "colab": {
          "base_uri": "https://localhost:8080/",
          "height": 199
        },
        "id": "5dac2ad7",
        "outputId": "61e84ee2-f116-4b0e-b54d-90f6bd8162e8"
      },
      "outputs": [
        {
          "output_type": "error",
          "ename": "NameError",
          "evalue": "name 'plot_confusion_matrix' is not defined",
          "traceback": [
            "\u001b[0;31m---------------------------------------------------------------------------\u001b[0m",
            "\u001b[0;31mNameError\u001b[0m                                 Traceback (most recent call last)",
            "\u001b[0;32m<ipython-input-37-2d331e4e3a72>\u001b[0m in \u001b[0;36m<cell line: 2>\u001b[0;34m()\u001b[0m\n\u001b[1;32m      1\u001b[0m \u001b[0;31m#visualize the confusion matrix directly\u001b[0m\u001b[0;34m\u001b[0m\u001b[0;34m\u001b[0m\u001b[0m\n\u001b[0;32m----> 2\u001b[0;31m \u001b[0mdisp\u001b[0m\u001b[0;34m=\u001b[0m\u001b[0mplot_confusion_matrix\u001b[0m\u001b[0;34m(\u001b[0m\u001b[0mRF\u001b[0m\u001b[0;34m,\u001b[0m\u001b[0mX_test_selected\u001b[0m\u001b[0;34m,\u001b[0m\u001b[0my_test\u001b[0m\u001b[0;34m,\u001b[0m\u001b[0mxticks_rotation\u001b[0m\u001b[0;34m=\u001b[0m\u001b[0;34m'vertical'\u001b[0m\u001b[0;34m,\u001b[0m\u001b[0mcmap\u001b[0m\u001b[0;34m=\u001b[0m\u001b[0;34m'Blues'\u001b[0m\u001b[0;34m,\u001b[0m\u001b[0mdisplay_labels\u001b[0m\u001b[0;34m=\u001b[0m\u001b[0mlabels\u001b[0m\u001b[0;34m)\u001b[0m\u001b[0;34m\u001b[0m\u001b[0;34m\u001b[0m\u001b[0m\n\u001b[0m",
            "\u001b[0;31mNameError\u001b[0m: name 'plot_confusion_matrix' is not defined"
          ]
        }
      ],
      "source": [
        "#visualize the confusion matrix directly\n",
        "disp=plot_confusion_matrix(RF,X_test_selected,y_test,xticks_rotation='vertical',cmap='Blues',display_labels=labels)"
      ]
    },
    {
      "cell_type": "code",
      "execution_count": 38,
      "id": "51bd75b7",
      "metadata": {
        "scrolled": true,
        "colab": {
          "base_uri": "https://localhost:8080/",
          "height": 472
        },
        "id": "51bd75b7",
        "outputId": "77680672-3f37-4a9a-b331-64d7036227fc"
      },
      "outputs": [
        {
          "output_type": "display_data",
          "data": {
            "text/plain": [
              "<Figure size 640x480 with 1 Axes>"
            ],
            "image/png": "[encoded data removed]"
          },
          "metadata": {}
        }
      ],
      "source": [
        "#roc curves will be generated for each class\n",
        "#we will therefore have to binarize the y_test labels\n",
        "#this is done because the probabilities(pred_prob) are calculated for each each class\n",
        "#we therefore need to put the y_test label in the same format as the pred_prob\n",
        "y_test_binarized=label_binarize(y_test,classes=classes)\n",
        "\n",
        "# roc curve for classes\n",
        "fpr = {}\n",
        "tpr = {}\n",
        "thresh ={}\n",
        "roc_auc = dict()\n",
        "\n",
        "n_class = classes.shape[0]\n",
        "\n",
        "for i in range(n_class):\n",
        "    fpr[i], tpr[i], thresh[i] = roc_curve(y_test_binarized[:,i], pred_prob[:,i])\n",
        "    roc_auc[i] = auc(fpr[i], tpr[i])\n",
        "\n",
        "    # plotting\n",
        "    plt.plot(fpr[i], tpr[i], linestyle='--',\n",
        "             label='%s vs Rest (AUC=%0.2f)'%(labels[i],roc_auc[i]))\n",
        "\n",
        "plt.plot([0,1],[0,1],'b--')\n",
        "plt.xlim([0,1])\n",
        "plt.ylim([0,1.05])\n",
        "plt.title('Multiclass ROC curve')\n",
        "plt.xlabel('False Positive Rate')\n",
        "plt.ylabel('True Positive rate')\n",
        "plt.legend(loc='lower right')\n",
        "plt.show()"
      ]
    }
  ],
  "metadata": {
    "kernelspec": {
      "display_name": "Python 3 (ipykernel)",
      "language": "python",
      "name": "python3"
    },
    "language_info": {
      "codemirror_mode": {
        "name": "ipython",
        "version": 3
      },
      "file_extension": ".py",
      "mimetype": "text/x-python",
      "name": "python",
      "nbconvert_exporter": "python",
      "pygments_lexer": "ipython3",
      "version": "3.8.10"
    },
    "colab": {
      "provenance": [],
      "include_colab_link": true
    }
  },
  "nbformat": 4,
  "nbformat_minor": 5
}